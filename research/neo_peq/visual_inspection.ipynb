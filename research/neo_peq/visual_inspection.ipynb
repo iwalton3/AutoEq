{
 "cells": [
  {
   "cell_type": "code",
   "execution_count": 1,
   "id": "5346ab5d-ed21-423d-81d4-429be56a0565",
   "metadata": {},
   "outputs": [],
   "source": [
    "%load_ext autoreload\n",
    "%autoreload 2"
   ]
  },
  {
   "cell_type": "code",
   "execution_count": 2,
   "id": "dee4d467-938c-4af6-8459-47f64f46fab0",
   "metadata": {},
   "outputs": [],
   "source": [
    "import sys\n",
    "from pathlib import Path\n",
    "from time import time\n",
    "from copy import deepcopy\n",
    "import yaml\n",
    "import numpy as np\n",
    "import pandas as pd\n",
    "import matplotlib.pyplot as plt\n",
    "ROOT_PATH = Path().absolute().parent.parent\n",
    "if str(ROOT_PATH) not in sys.path:\n",
    "    sys.path.insert(1, str(ROOT_PATH))\n",
    "from frequency_response import FrequencyResponse\n",
    "from peq import PEQ\n",
    "from constants import DEFAULT_FS, PEQ_CONFIGS"
   ]
  },
  {
   "cell_type": "code",
   "execution_count": 3,
   "id": "fb7720b4-26b6-4134-af2d-d03e4e59d140",
   "metadata": {},
   "outputs": [],
   "source": [
    "dir_path = Path().absolute()\n",
    "config_names = [\n",
    "    ['4_PEAKING_WITH_LOW_SHELF'],\n",
    "    ['4_PEAKING_WITH_LOW_SHELF', '4_PEAKING_WITH_HIGH_SHELF'],\n",
    "    ['8_PEAKING_WITH_SHELVES'],\n",
    "    ['10_BAND_GRAPHIC_EQ'],\n",
    "]\n",
    "for names in config_names:\n",
    "    dir_path.joinpath('inspection', ','.join(names)).mkdir(parents=True, exist_ok=True)"
   ]
  },
  {
   "cell_type": "code",
   "execution_count": 5,
   "id": "98d97606-6319-4c81-ab11-a5480e104e71",
   "metadata": {},
   "outputs": [],
   "source": [
    "for names in config_names:\n",
    "    for fp in ROOT_PATH.joinpath('results', 'oratory1990').glob('*/*/*.csv'):\n",
    "        fr = FrequencyResponse.read_from_csv(fp)\n",
    "        peqs = fr.optimize_parametric_eq([PEQ_CONFIGS[name] for name in names], DEFAULT_FS, max_time=5)\n",
    "        compound = PEQ(f=peqs[0].f, fs=DEFAULT_FS)\n",
    "        for peq in peqs:\n",
    "            for filt in peq.filters:\n",
    "                compound.add_filter(filt)\n",
    "        compound.target = peqs[0].target\n",
    "        compound.sort_filters()\n",
    "        fig, ax = compound.plot()\n",
    "        ax.set_title(fp.name.replace('.csv', ''))\n",
    "        fig.savefig(dir_path.joinpath('inspection', ','.join(names), fp.name.replace('.csv', '.png')), dpi=120)\n",
    "        plt.close(fig)"
   ]
  },
  {
   "cell_type": "code",
   "execution_count": null,
   "id": "9c14cdb7-2a41-4a37-bc9d-10223cdf744e",
   "metadata": {},
   "outputs": [],
   "source": []
  }
 ],
 "metadata": {
  "kernelspec": {
   "display_name": "autoeq",
   "language": "python",
   "name": "autoeq"
  },
  "language_info": {
   "codemirror_mode": {
    "name": "ipython",
    "version": 3
   },
   "file_extension": ".py",
   "mimetype": "text/x-python",
   "name": "python",
   "nbconvert_exporter": "python",
   "pygments_lexer": "ipython3",
   "version": "3.10.5"
  }
 },
 "nbformat": 4,
 "nbformat_minor": 5
}
